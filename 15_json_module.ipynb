{
 "cells": [
  {
   "cell_type": "markdown",
   "id": "3f1cb897-cf1a-4c6a-a154-7d12a383e7f1",
   "metadata": {},
   "source": [
    "# JSON MODULE"
   ]
  },
  {
   "cell_type": "code",
   "execution_count": 2,
   "id": "eafea0c0-bf61-4b20-a5e9-78cbf018cc70",
   "metadata": {},
   "outputs": [],
   "source": [
    "import json"
   ]
  },
  {
   "cell_type": "markdown",
   "id": "4ce32b35-7cbe-49ca-b49d-7cfcbfeec5e0",
   "metadata": {},
   "source": [
    "CONVERTING PYTHON OBJECTS TO JSON (SERIALIZATION)"
   ]
  },
  {
   "cell_type": "code",
   "execution_count": 9,
   "id": "3cc7f6e1-873f-4f3a-bf88-79e502c6fcff",
   "metadata": {},
   "outputs": [
    {
     "name": "stdout",
     "output_type": "stream",
     "text": [
      "{\"name\": \"Nikhil\", \"age\": \"20\", \"branch\": \"CSE\"}\n"
     ]
    },
    {
     "data": {
      "text/plain": [
       "str"
      ]
     },
     "execution_count": 9,
     "metadata": {},
     "output_type": "execute_result"
    }
   ],
   "source": [
    "data = {\"name\": \"Nikhil\", \"age\":\"20\",\"branch\":\"CSE\"}\n",
    "json_string = json.dumps(data)\n",
    "print(json_string)\n",
    "type(json_string)"
   ]
  },
  {
   "cell_type": "markdown",
   "id": "b7dec497-252c-4316-9f41-df740ca41c22",
   "metadata": {},
   "source": [
    "CONVERTING JSON STRING TO PYTHON OBJECTS (DE-SERIALIZATION)"
   ]
  },
  {
   "cell_type": "code",
   "execution_count": 16,
   "id": "84fb7ad2-cb6b-486c-9ac9-44ba5c333166",
   "metadata": {},
   "outputs": [
    {
     "name": "stdout",
     "output_type": "stream",
     "text": [
      "{'name': 'Nikhil', 'age': '20', 'branch': 'CSE'}\n"
     ]
    },
    {
     "data": {
      "text/plain": [
       "dict"
      ]
     },
     "execution_count": 16,
     "metadata": {},
     "output_type": "execute_result"
    }
   ],
   "source": [
    "python_obj = json.loads(json_string)\n",
    "print(python_obj)\n",
    "type(python_obj)"
   ]
  },
  {
   "cell_type": "markdown",
   "id": "0fcaf383-ab3a-4047-ae19-8bcdad0b4cbc",
   "metadata": {},
   "source": [
    "FORMATTED JSON"
   ]
  },
  {
   "cell_type": "code",
   "execution_count": 21,
   "id": "4f9d785a-34e5-4bd7-8061-6f2db052c671",
   "metadata": {},
   "outputs": [
    {
     "name": "stdout",
     "output_type": "stream",
     "text": [
      "{\n",
      "    \"name\": \"Nikhil\",\n",
      "    \"age\": \"20\",\n",
      "    \"branch\": \"CSE\"\n",
      "}\n"
     ]
    }
   ],
   "source": [
    "formatted_json = json.dumps(python_obj, indent = 4)\n",
    "print(formatted_json)"
   ]
  },
  {
   "cell_type": "code",
   "execution_count": null,
   "id": "12e10407-dc9c-42cc-ada2-3e8f76deeb93",
   "metadata": {},
   "outputs": [],
   "source": []
  }
 ],
 "metadata": {
  "kernelspec": {
   "display_name": "Python 3 (ipykernel)",
   "language": "python",
   "name": "python3"
  },
  "language_info": {
   "codemirror_mode": {
    "name": "ipython",
    "version": 3
   },
   "file_extension": ".py",
   "mimetype": "text/x-python",
   "name": "python",
   "nbconvert_exporter": "python",
   "pygments_lexer": "ipython3",
   "version": "3.11.9"
  }
 },
 "nbformat": 4,
 "nbformat_minor": 5
}
