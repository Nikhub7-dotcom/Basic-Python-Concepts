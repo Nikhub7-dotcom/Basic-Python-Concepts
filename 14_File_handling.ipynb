{
 "cells": [
  {
   "cell_type": "markdown",
   "id": "4c477b14-7a64-4ccc-8682-ec560459dc5e",
   "metadata": {},
   "source": [
    "# FILES IN PYTHON"
   ]
  },
  {
   "cell_type": "code",
   "execution_count": 6,
   "id": "cb652d5d-ac6b-44ca-837f-0c820cfaa495",
   "metadata": {},
   "outputs": [],
   "source": [
    "file = open(\"example.txt\", \"w\")\n",
    "file.write(\"Hello, World!\")\n",
    "file.close()"
   ]
  },
  {
   "cell_type": "code",
   "execution_count": 8,
   "id": "c02875b8-cfce-4421-8ebf-2a5842341893",
   "metadata": {},
   "outputs": [],
   "source": [
    "lines = [\"Hello\\n\", \"Welcome to Python\\n\", \"File Handling\\n\"]\n",
    "\n",
    "file = open(\"example.txt\",\"w\")\n",
    "file.writelines(lines)   # write multiple lines\n",
    "file.close()"
   ]
  },
  {
   "cell_type": "markdown",
   "id": "fb594f12-6a0b-41a0-af19-cbd12b7443fe",
   "metadata": {},
   "source": [
    "### Reading Files"
   ]
  },
  {
   "cell_type": "code",
   "execution_count": 11,
   "id": "00baf99e-5345-4c15-ab82-c7ca35c577bd",
   "metadata": {},
   "outputs": [
    {
     "name": "stdout",
     "output_type": "stream",
     "text": [
      "Hello\n",
      "Welcome to Python\n",
      "File Handling\n",
      "\n"
     ]
    }
   ],
   "source": [
    "file = open(\"example.txt\",\"r\")\n",
    "content = file.read()\n",
    "print(content)\n",
    "file.close()"
   ]
  },
  {
   "cell_type": "code",
   "execution_count": 15,
   "id": "256a419d-4afa-4b71-ba15-af0fa8753b87",
   "metadata": {},
   "outputs": [
    {
     "name": "stdout",
     "output_type": "stream",
     "text": [
      "Hello\n",
      "\n"
     ]
    }
   ],
   "source": [
    "file = open(\"example.txt\",\"r\")\n",
    "line1 = file.readline()    # reads first line\n",
    "print(line1)\n",
    "file.close()"
   ]
  },
  {
   "cell_type": "code",
   "execution_count": 17,
   "id": "df032745-8154-4673-953b-be83025dcd63",
   "metadata": {},
   "outputs": [
    {
     "name": "stdout",
     "output_type": "stream",
     "text": [
      "['Hello\\n', 'Welcome to Python\\n', 'File Handling\\n']\n"
     ]
    }
   ],
   "source": [
    "file = open(\"example.txt\",\"r\")\n",
    "lines = file.readlines()\n",
    "print(lines)\n",
    "file.close()"
   ]
  },
  {
   "cell_type": "markdown",
   "id": "2f311d57-4244-41e2-985f-b8d6db32c883",
   "metadata": {},
   "source": [
    "### Appending to a file"
   ]
  },
  {
   "cell_type": "code",
   "execution_count": 20,
   "id": "a31204ff-5fb0-400d-b6d5-78dcb65eca65",
   "metadata": {},
   "outputs": [],
   "source": [
    "file = open(\"example.txt\", \"a\")\n",
    "file.write(\"\\nThis is an additional line.\")\n",
    "file.close()"
   ]
  },
  {
   "cell_type": "code",
   "execution_count": 22,
   "id": "21e299a8-e633-46cd-a8fb-265e94d8d629",
   "metadata": {},
   "outputs": [
    {
     "name": "stdout",
     "output_type": "stream",
     "text": [
      "Hello\n",
      "Welcome to Python\n",
      "File Handling\n",
      "\n",
      "This is an additional line.\n"
     ]
    }
   ],
   "source": [
    "with open(\"example.txt\", \"r\") as file:\n",
    "    content = file.read()\n",
    "    print(content)  # No need to manually close the file"
   ]
  },
  {
   "cell_type": "markdown",
   "id": "2391d612-67f6-404d-b6de-b62f7bcc3d8b",
   "metadata": {},
   "source": [
    "### Check if a file exists"
   ]
  },
  {
   "cell_type": "code",
   "execution_count": 25,
   "id": "20db49c3-298b-4f0b-ab1f-f91bdcc3aca1",
   "metadata": {},
   "outputs": [
    {
     "name": "stdout",
     "output_type": "stream",
     "text": [
      "File exists!\n"
     ]
    }
   ],
   "source": [
    "import os\n",
    "\n",
    "if os.path.exists(\"example.txt\"):\n",
    "    print(\"File exists!\")\n",
    "else:\n",
    "    print(\"File not found!\")"
   ]
  },
  {
   "cell_type": "markdown",
   "id": "7103641a-6169-473a-8937-1bde12160a5f",
   "metadata": {},
   "source": [
    "### Delete a file"
   ]
  },
  {
   "cell_type": "code",
   "execution_count": 28,
   "id": "d004cba9-2437-4587-a342-01646eba8c47",
   "metadata": {},
   "outputs": [
    {
     "name": "stdout",
     "output_type": "stream",
     "text": [
      "file deleted\n"
     ]
    }
   ],
   "source": [
    "if os.path.exists(\"example.txt\"):\n",
    "    os.remove(\"example.txt\")\n",
    "    print(\"file deleted\")\n",
    "else:\n",
    "    print(\"File not found!\")"
   ]
  }
 ],
 "metadata": {
  "kernelspec": {
   "display_name": "Python 3 (ipykernel)",
   "language": "python",
   "name": "python3"
  },
  "language_info": {
   "codemirror_mode": {
    "name": "ipython",
    "version": 3
   },
   "file_extension": ".py",
   "mimetype": "text/x-python",
   "name": "python",
   "nbconvert_exporter": "python",
   "pygments_lexer": "ipython3",
   "version": "3.11.9"
  }
 },
 "nbformat": 4,
 "nbformat_minor": 5
}
