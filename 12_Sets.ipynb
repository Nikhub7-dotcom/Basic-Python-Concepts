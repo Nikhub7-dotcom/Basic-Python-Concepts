{
 "cells": [
  {
   "cell_type": "markdown",
   "id": "4eb8911c-febc-4d82-96d5-8ae871ea2bcc",
   "metadata": {},
   "source": [
    "# SETS"
   ]
  },
  {
   "cell_type": "code",
   "execution_count": 2,
   "id": "44e95a72-64fc-47c0-a20e-237f8bec7550",
   "metadata": {},
   "outputs": [],
   "source": [
    "# Empty set\n",
    "empty_set = set()\n",
    "\n",
    "# Set with elements\n",
    "numbers = {1,2,3,4,5}\n",
    "\n",
    "# Mixed Element Set\n",
    "mixed_set = {1, \"Nikhil\", \"BMW\", 2, 3}"
   ]
  },
  {
   "cell_type": "code",
   "execution_count": 4,
   "id": "e9934894-dd55-4057-81aa-24148a01fbc7",
   "metadata": {},
   "outputs": [
    {
     "data": {
      "text/plain": [
       "{1, 2, 3, 4, 5, 6666}"
      ]
     },
     "execution_count": 4,
     "metadata": {},
     "output_type": "execute_result"
    }
   ],
   "source": [
    "# Creating a set from a list\n",
    "unique_numbers = set([1,1,2,2,2,2,3,3,3,4,5,6666])\n",
    "unique_numbers"
   ]
  },
  {
   "cell_type": "markdown",
   "id": "cf7c0b11-339a-4f70-99d9-b0705ce781ac",
   "metadata": {},
   "source": [
    "## COMMON SET METHODS"
   ]
  },
  {
   "cell_type": "code",
   "execution_count": 9,
   "id": "3dbb8294-e16c-4b75-8383-01ff2f2732f3",
   "metadata": {},
   "outputs": [
    {
     "data": {
      "text/plain": [
       "{10}"
      ]
     },
     "execution_count": 9,
     "metadata": {},
     "output_type": "execute_result"
    }
   ],
   "source": [
    "my_set = set()\n",
    "my_set.add(10)\n",
    "my_set"
   ]
  },
  {
   "cell_type": "code",
   "execution_count": 11,
   "id": "0893a79a-d840-44e9-8b35-5eb36a5143cf",
   "metadata": {},
   "outputs": [
    {
     "data": {
      "text/plain": [
       "{10, 20, 30, 40}"
      ]
     },
     "execution_count": 11,
     "metadata": {},
     "output_type": "execute_result"
    }
   ],
   "source": [
    "my_set.update([20,30,40])\n",
    "my_set"
   ]
  },
  {
   "cell_type": "code",
   "execution_count": 13,
   "id": "df25e9e6-b3df-42e0-acec-e3bbffae91a6",
   "metadata": {},
   "outputs": [
    {
     "data": {
      "text/plain": [
       "{20, 30, 40}"
      ]
     },
     "execution_count": 13,
     "metadata": {},
     "output_type": "execute_result"
    }
   ],
   "source": [
    "my_set.remove(10)\n",
    "my_set"
   ]
  },
  {
   "cell_type": "code",
   "execution_count": 17,
   "id": "640fc4af-37b6-4b3d-bfcf-bfda7c5ebc7b",
   "metadata": {},
   "outputs": [
    {
     "data": {
      "text/plain": [
       "{20, 30}"
      ]
     },
     "execution_count": 17,
     "metadata": {},
     "output_type": "execute_result"
    }
   ],
   "source": [
    "my_set.discard(50)    # will not throw an error\n",
    "my_set.discard(40)\n",
    "my_set"
   ]
  },
  {
   "cell_type": "code",
   "execution_count": 19,
   "id": "3d2b733d-ecd8-4ddd-9926-072eaf362ee0",
   "metadata": {},
   "outputs": [
    {
     "data": {
      "text/plain": [
       "20"
      ]
     },
     "execution_count": 19,
     "metadata": {},
     "output_type": "execute_result"
    }
   ],
   "source": [
    "my_set.pop()"
   ]
  },
  {
   "cell_type": "code",
   "execution_count": 25,
   "id": "2f17ef8c-0e2c-4b5f-bfd5-71c04593d68e",
   "metadata": {},
   "outputs": [
    {
     "data": {
      "text/plain": [
       "set()"
      ]
     },
     "execution_count": 25,
     "metadata": {},
     "output_type": "execute_result"
    }
   ],
   "source": [
    "my_set.clear()\n",
    "my_set"
   ]
  },
  {
   "cell_type": "code",
   "execution_count": 29,
   "id": "6c3602a6-ab9a-462d-9087-bb20c3dbe229",
   "metadata": {},
   "outputs": [
    {
     "data": {
      "text/plain": [
       "{1, 2, 3, 4, 5, 6666}"
      ]
     },
     "execution_count": 29,
     "metadata": {},
     "output_type": "execute_result"
    }
   ],
   "source": [
    "my_set = unique_numbers.copy()\n",
    "my_set"
   ]
  },
  {
   "cell_type": "markdown",
   "id": "3263ddfb-7451-47a2-bb82-4b97c58f4e81",
   "metadata": {},
   "source": [
    "## SET OPERATIONS"
   ]
  },
  {
   "cell_type": "code",
   "execution_count": 32,
   "id": "5400d6ac-f94b-43fe-aa0a-e2dac69c9c40",
   "metadata": {},
   "outputs": [
    {
     "data": {
      "text/plain": [
       "{1, 2, 3, 4, 5, 6}"
      ]
     },
     "execution_count": 32,
     "metadata": {},
     "output_type": "execute_result"
    }
   ],
   "source": [
    "set1 = {1,2,3}\n",
    "set2 = {4,5,6}\n",
    "set1.union(set2)"
   ]
  },
  {
   "cell_type": "code",
   "execution_count": 34,
   "id": "4c4d18d9-dbea-42b3-8eb9-1f305afae9d5",
   "metadata": {},
   "outputs": [
    {
     "data": {
      "text/plain": [
       "{1}"
      ]
     },
     "execution_count": 34,
     "metadata": {},
     "output_type": "execute_result"
    }
   ],
   "source": [
    "set3 = {1,4,6}\n",
    "set1.intersection(set3)"
   ]
  },
  {
   "cell_type": "code",
   "execution_count": 38,
   "id": "5ece051e-336b-4fe1-a2d1-b0620085b85a",
   "metadata": {},
   "outputs": [
    {
     "data": {
      "text/plain": [
       "{2, 3}"
      ]
     },
     "execution_count": 38,
     "metadata": {},
     "output_type": "execute_result"
    }
   ],
   "source": [
    "set1.difference(set3)"
   ]
  },
  {
   "cell_type": "code",
   "execution_count": 40,
   "id": "dcb47467-03d1-42f5-895c-423dd0515733",
   "metadata": {},
   "outputs": [
    {
     "data": {
      "text/plain": [
       "{2, 3, 4, 6}"
      ]
     },
     "execution_count": 40,
     "metadata": {},
     "output_type": "execute_result"
    }
   ],
   "source": [
    "set1.symmetric_difference(set3)"
   ]
  },
  {
   "cell_type": "code",
   "execution_count": 42,
   "id": "25316830-f33d-4c9b-a5b3-c04932ee07d6",
   "metadata": {},
   "outputs": [
    {
     "data": {
      "text/plain": [
       "True"
      ]
     },
     "execution_count": 42,
     "metadata": {},
     "output_type": "execute_result"
    }
   ],
   "source": [
    "set4 = {1,2,3,4,5,6,7,8,9}\n",
    "set1.issubset(set4)"
   ]
  },
  {
   "cell_type": "code",
   "execution_count": 50,
   "id": "9018ea86-d4a9-4299-a167-0bd38e7e74da",
   "metadata": {},
   "outputs": [
    {
     "data": {
      "text/plain": [
       "True"
      ]
     },
     "execution_count": 50,
     "metadata": {},
     "output_type": "execute_result"
    }
   ],
   "source": [
    "set4.issuperset(set1)"
   ]
  },
  {
   "cell_type": "code",
   "execution_count": null,
   "id": "d6842fcb-cf5d-4a49-af5e-30fe4a222803",
   "metadata": {},
   "outputs": [],
   "source": []
  }
 ],
 "metadata": {
  "kernelspec": {
   "display_name": "Python 3 (ipykernel)",
   "language": "python",
   "name": "python3"
  },
  "language_info": {
   "codemirror_mode": {
    "name": "ipython",
    "version": 3
   },
   "file_extension": ".py",
   "mimetype": "text/x-python",
   "name": "python",
   "nbconvert_exporter": "python",
   "pygments_lexer": "ipython3",
   "version": "3.11.9"
  }
 },
 "nbformat": 4,
 "nbformat_minor": 5
}
