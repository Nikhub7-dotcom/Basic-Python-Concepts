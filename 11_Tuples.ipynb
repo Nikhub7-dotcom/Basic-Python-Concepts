{
 "cells": [
  {
   "cell_type": "markdown",
   "id": "9ae86aa1-5046-4a29-befa-c0b40104a16e",
   "metadata": {},
   "source": [
    "# TUPLES"
   ]
  },
  {
   "cell_type": "code",
   "execution_count": 2,
   "id": "d7900b04-da40-406a-a55b-090167ab3b72",
   "metadata": {},
   "outputs": [],
   "source": [
    "# Empty Tuple\n",
    "empty_tuple = ()\n",
    "\n",
    "# Tuple with elements\n",
    "numbers = (1,2,3,4,5)\n",
    "\n",
    "#Tuple with mixed data\n",
    "mixed_data = (1,\"apple\", False, 1.22)\n",
    "\n",
    "# Single element tuple is necessary\n",
    "single_element = (20,)    # comma(,) is necessary for single element"
   ]
  },
  {
   "cell_type": "markdown",
   "id": "c390a543-0db2-43a6-85f8-432f604d1c19",
   "metadata": {},
   "source": [
    "## COMMON TUPLE METHODS"
   ]
  },
  {
   "cell_type": "code",
   "execution_count": 5,
   "id": "c88f7165-0e06-440e-83d0-2a1dcc8585b9",
   "metadata": {},
   "outputs": [
    {
     "data": {
      "text/plain": [
       "3"
      ]
     },
     "execution_count": 5,
     "metadata": {},
     "output_type": "execute_result"
    }
   ],
   "source": [
    "my_tuple = (1,1,1,2,4,\"Mango\")\n",
    "my_tuple.count(1)"
   ]
  },
  {
   "cell_type": "code",
   "execution_count": 7,
   "id": "b7af4660-43f6-4db2-a1f0-94a3cf2f4225",
   "metadata": {},
   "outputs": [
    {
     "data": {
      "text/plain": [
       "5"
      ]
     },
     "execution_count": 7,
     "metadata": {},
     "output_type": "execute_result"
    }
   ],
   "source": [
    "my_tuple.index(\"Mango\")"
   ]
  },
  {
   "cell_type": "markdown",
   "id": "a933ac14-904e-4355-b5e7-961da9215d06",
   "metadata": {},
   "source": [
    "ACCESSING TUPLE ELEMENTS"
   ]
  },
  {
   "cell_type": "code",
   "execution_count": 12,
   "id": "c81d13bb-3e47-4826-a369-54d788e8d41c",
   "metadata": {},
   "outputs": [
    {
     "name": "stdout",
     "output_type": "stream",
     "text": [
      "20\n",
      "(20, 30)\n"
     ]
    }
   ],
   "source": [
    "tup1 = (10,20,30,40)\n",
    "\n",
    "#Indexing\n",
    "print(tup1[1])\n",
    "\n",
    "#Slicing\n",
    "print(tup1[1:3])"
   ]
  },
  {
   "cell_type": "markdown",
   "id": "d25bf038-63d1-426c-b6ac-7df7f630c814",
   "metadata": {},
   "source": [
    "TUPLE PACKING AND UNPACKING"
   ]
  },
  {
   "cell_type": "code",
   "execution_count": 15,
   "id": "cbead4ed-458f-4b93-9291-b5a75259e4fe",
   "metadata": {},
   "outputs": [
    {
     "name": "stdout",
     "output_type": "stream",
     "text": [
      "Nikhil\n",
      "20\n"
     ]
    }
   ],
   "source": [
    "#packing\n",
    "person = (\"Nikhil\", 20, \"Engineer\")\n",
    "\n",
    "#unpacking\n",
    "name, age, profession = person\n",
    "print(name)\n",
    "print(age)"
   ]
  },
  {
   "cell_type": "code",
   "execution_count": null,
   "id": "8f1731c8-99a3-4145-8468-95971206fd04",
   "metadata": {},
   "outputs": [],
   "source": []
  }
 ],
 "metadata": {
  "kernelspec": {
   "display_name": "Python 3 (ipykernel)",
   "language": "python",
   "name": "python3"
  },
  "language_info": {
   "codemirror_mode": {
    "name": "ipython",
    "version": 3
   },
   "file_extension": ".py",
   "mimetype": "text/x-python",
   "name": "python",
   "nbconvert_exporter": "python",
   "pygments_lexer": "ipython3",
   "version": "3.11.9"
  }
 },
 "nbformat": 4,
 "nbformat_minor": 5
}
