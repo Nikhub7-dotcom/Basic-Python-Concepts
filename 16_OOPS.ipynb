{
 "cells": [
  {
   "cell_type": "markdown",
   "id": "f752930c-dc7c-425f-a6fa-2f2e96518f28",
   "metadata": {},
   "source": [
    "# OBJECT ORIENTED PROGRAMMING IN PYTHON"
   ]
  },
  {
   "cell_type": "markdown",
   "id": "71b7a48c-0bb6-4c3c-8f99-e3ffd1bb89f9",
   "metadata": {},
   "source": [
    "CREATING A CLASS"
   ]
  },
  {
   "cell_type": "code",
   "execution_count": 11,
   "id": "981e7ac8-f495-48b6-ac74-a84ed37f2d74",
   "metadata": {},
   "outputs": [
    {
     "name": "stdout",
     "output_type": "stream",
     "text": [
      "Toyota Camry\n"
     ]
    }
   ],
   "source": [
    "class Car:\n",
    "    def __init__(self,brand,model):\n",
    "        self.brand = brand\n",
    "        self.model = model\n",
    "\n",
    "    def display_info(self):\n",
    "        return f\"{self.brand} {self.model}\"\n",
    "\n",
    "# creating an object \n",
    "car1 = Car(\"Toyota\",\"Camry\")\n",
    "print(car1.display_info())"
   ]
  },
  {
   "cell_type": "markdown",
   "id": "5a19895d-54db-49dc-b4ef-f3f4fb6a9e17",
   "metadata": {},
   "source": [
    "ENCAPSULATION"
   ]
  },
  {
   "cell_type": "code",
   "execution_count": 16,
   "id": "38329353-06a6-4770-ac39-d565e2f5398e",
   "metadata": {},
   "outputs": [
    {
     "name": "stdout",
     "output_type": "stream",
     "text": [
      "1500\n"
     ]
    }
   ],
   "source": [
    "class BankAccount:\n",
    "    def __init__(self,balance):\n",
    "        self.__balance = balance   # Private attribute\n",
    "\n",
    "    def get_balance(self):       # getter\n",
    "        return self.__balance\n",
    "\n",
    "    def deposit(self,amount):    # setter\n",
    "        if amount > 0:\n",
    "            self.__balance += amount\n",
    "\n",
    "# Using Encapsulation\n",
    "account = BankAccount(1000)\n",
    "account.deposit(500)\n",
    "print(account.get_balance())"
   ]
  },
  {
   "cell_type": "markdown",
   "id": "8ed464df-ba65-4649-95ee-4870da2ca2a6",
   "metadata": {},
   "source": [
    "INHERITANCE"
   ]
  },
  {
   "cell_type": "code",
   "execution_count": 19,
   "id": "6b007702-cd60-4bbd-a0e9-fb512b14110b",
   "metadata": {},
   "outputs": [
    {
     "name": "stdout",
     "output_type": "stream",
     "text": [
      "Bark\n"
     ]
    }
   ],
   "source": [
    "class Animal:\n",
    "    def speak(self):\n",
    "        return \"Animal makes a sound\"\n",
    "\n",
    "class Dog(Animal):\n",
    "    def speak(self):\n",
    "        return \"Bark\"\n",
    "\n",
    "dog = Dog()\n",
    "print(dog.speak())"
   ]
  },
  {
   "cell_type": "markdown",
   "id": "247742fb-a157-4ef3-94b1-b870758bf58d",
   "metadata": {},
   "source": [
    "MULTIPLE INHERITANCE"
   ]
  },
  {
   "cell_type": "code",
   "execution_count": 24,
   "id": "02b50021-4853-4434-812b-a1c548109d12",
   "metadata": {},
   "outputs": [
    {
     "name": "stdout",
     "output_type": "stream",
     "text": [
      "Method A\n",
      "Method B\n"
     ]
    }
   ],
   "source": [
    "class A:\n",
    "    def method_a(self):\n",
    "        return \"Method A\"\n",
    "\n",
    "class B:\n",
    "    def method_b(self):\n",
    "        return \"Method B\"\n",
    "\n",
    "class C(A, B):\n",
    "    pass\n",
    "\n",
    "obj = C()\n",
    "print(obj.method_a())\n",
    "print(obj.method_b())"
   ]
  },
  {
   "cell_type": "markdown",
   "id": "40e7cbe6-33f6-4cd6-bb32-8677e2e4b33f",
   "metadata": {},
   "source": [
    "POLYMORPHISM\n",
    "\n",
    "Method overriding"
   ]
  },
  {
   "cell_type": "code",
   "execution_count": 32,
   "id": "b9ea3f1a-4a7e-4ca9-aa2c-6696fb7b2b5f",
   "metadata": {},
   "outputs": [
    {
     "name": "stdout",
     "output_type": "stream",
     "text": [
      "Birds can fly\n",
      "Penguins cannot fly\n"
     ]
    }
   ],
   "source": [
    "class Bird:\n",
    "    def fly(self):\n",
    "        return \"Birds can fly\"\n",
    "\n",
    "class Penguin(Bird):\n",
    "    def fly(self):\n",
    "        return \"Penguins cannot fly\"\n",
    "\n",
    "bird = Bird()\n",
    "penguin = Penguin()\n",
    "\n",
    "print(bird.fly())\n",
    "print(penguin.fly())"
   ]
  },
  {
   "cell_type": "markdown",
   "id": "a1fa7795-fed8-4c2e-aa38-489f8f030f16",
   "metadata": {},
   "source": [
    "ABSTRACTION"
   ]
  },
  {
   "cell_type": "code",
   "execution_count": 37,
   "id": "ee5183d6-8983-4213-85f2-b605290f878e",
   "metadata": {},
   "outputs": [
    {
     "name": "stdout",
     "output_type": "stream",
     "text": [
      "16\n"
     ]
    }
   ],
   "source": [
    "from abc import ABC, abstractmethod\n",
    "\n",
    "class Shape(ABC):\n",
    "    @abstractmethod\n",
    "    def area(self):\n",
    "        pass    # No implemntation\n",
    "\n",
    "class Square(Shape):\n",
    "    def __init__(self,side):\n",
    "        self.side = side\n",
    "\n",
    "    def area(self):\n",
    "        return self.side * self.side\n",
    "\n",
    "square = Square(4)\n",
    "print(square.area())"
   ]
  },
  {
   "cell_type": "markdown",
   "id": "979b2d89-bc39-427e-b8a3-4a7dc111e8e4",
   "metadata": {},
   "source": [
    "MAGIC METHOD"
   ]
  },
  {
   "cell_type": "code",
   "execution_count": 3,
   "id": "527b36f5-2e0c-4ac0-961a-0c9c22ed6f20",
   "metadata": {},
   "outputs": [
    {
     "name": "stdout",
     "output_type": "stream",
     "text": [
      "Book: Python Basics\n",
      "300\n"
     ]
    }
   ],
   "source": [
    "class Book:\n",
    "    def __init__(self, title, pages):\n",
    "        self.title = title\n",
    "        self.pages = pages\n",
    "\n",
    "    def __str__(self):  # String representation\n",
    "        return f\"Book: {self.title}\"\n",
    "\n",
    "    def __len__(self):  # Define behavior for len()\n",
    "        return self.pages\n",
    "\n",
    "book = Book(\"Python Basics\", 300)\n",
    "print(str(book))  \n",
    "print(len(book))  "
   ]
  },
  {
   "cell_type": "markdown",
   "id": "048e5fb3-5325-49ae-96b1-b49ea0182e4d",
   "metadata": {},
   "source": [
    "CLASS VC STATIC METHOD"
   ]
  },
  {
   "cell_type": "code",
   "execution_count": 6,
   "id": "2ece206b-d15e-4dd4-b21d-0c2fd7204d4a",
   "metadata": {},
   "outputs": [
    {
     "name": "stdout",
     "output_type": "stream",
     "text": [
      "Instance Method\n",
      "I am a class variable\n",
      "Static method\n"
     ]
    }
   ],
   "source": [
    "class Example:\n",
    "    class_var = \"I am a class variable\"\n",
    "\n",
    "    def instance_method(self):\n",
    "        return \"Instance Method\"\n",
    "\n",
    "    @classmethod\n",
    "    def class_method(cls):\n",
    "        return cls.class_var\n",
    "\n",
    "    @staticmethod\n",
    "    def static_method():\n",
    "        return \"Static method\"\n",
    "\n",
    "obj = Example()\n",
    "print(obj.instance_method())\n",
    "print(Example.class_method())\n",
    "print(Example.static_method())"
   ]
  },
  {
   "cell_type": "code",
   "execution_count": null,
   "id": "bccc6ae7-0198-47df-918a-82687c573461",
   "metadata": {},
   "outputs": [],
   "source": []
  }
 ],
 "metadata": {
  "kernelspec": {
   "display_name": "Python 3 (ipykernel)",
   "language": "python",
   "name": "python3"
  },
  "language_info": {
   "codemirror_mode": {
    "name": "ipython",
    "version": 3
   },
   "file_extension": ".py",
   "mimetype": "text/x-python",
   "name": "python",
   "nbconvert_exporter": "python",
   "pygments_lexer": "ipython3",
   "version": "3.11.9"
  }
 },
 "nbformat": 4,
 "nbformat_minor": 5
}
