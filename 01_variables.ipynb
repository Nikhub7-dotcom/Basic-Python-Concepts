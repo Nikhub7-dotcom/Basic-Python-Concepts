{
 "cells": [
  {
   "cell_type": "markdown",
   "id": "de36319d-7467-4268-9b8d-cecfeb7f61f7",
   "metadata": {},
   "source": [
    "VARIABLES IN PYTHON "
   ]
  },
  {
   "cell_type": "code",
   "execution_count": 2,
   "id": "2e23aa9d-ddb1-4aec-b725-879ca62d82b0",
   "metadata": {},
   "outputs": [],
   "source": [
    "a = 5"
   ]
  },
  {
   "cell_type": "code",
   "execution_count": 4,
   "id": "5a464e00-3745-4f0a-9f2e-087bafa18057",
   "metadata": {},
   "outputs": [],
   "source": [
    "b = 32"
   ]
  },
  {
   "cell_type": "code",
   "execution_count": 6,
   "id": "1c477e0f-e3e4-4445-8ea6-e6a3095b569c",
   "metadata": {},
   "outputs": [
    {
     "data": {
      "text/plain": [
       "37"
      ]
     },
     "execution_count": 6,
     "metadata": {},
     "output_type": "execute_result"
    }
   ],
   "source": [
    "a + b"
   ]
  },
  {
   "cell_type": "code",
   "execution_count": 10,
   "id": "ed0f8ceb-8a8c-4f1b-aa67-9b0ffd01edbe",
   "metadata": {},
   "outputs": [],
   "source": [
    "name = \"Nikhil\""
   ]
  },
  {
   "cell_type": "code",
   "execution_count": 12,
   "id": "846087bc-7b88-4aac-b4c6-14cd42f05f07",
   "metadata": {},
   "outputs": [
    {
     "name": "stdout",
     "output_type": "stream",
     "text": [
      "Hello World\n"
     ]
    }
   ],
   "source": [
    "print(\"Hello World\")"
   ]
  },
  {
   "cell_type": "code",
   "execution_count": 14,
   "id": "52bf7f0c-be6d-472a-8f71-7b6b8134e144",
   "metadata": {},
   "outputs": [],
   "source": [
    "#this is a comment"
   ]
  },
  {
   "cell_type": "code",
   "execution_count": 16,
   "id": "b889b197-fd8b-43e3-91bf-61910bc35301",
   "metadata": {},
   "outputs": [
    {
     "name": "stdout",
     "output_type": "stream",
     "text": [
      "<class 'int'>\n"
     ]
    }
   ],
   "source": [
    "print(type(a))"
   ]
  },
  {
   "cell_type": "code",
   "execution_count": 18,
   "id": "981455c2-e6ea-4272-9426-4161a2d1b7bb",
   "metadata": {},
   "outputs": [
    {
     "name": "stdout",
     "output_type": "stream",
     "text": [
      "<class 'str'>\n"
     ]
    }
   ],
   "source": [
    "print(type(name))"
   ]
  },
  {
   "cell_type": "code",
   "execution_count": 20,
   "id": "629708d2-cb3c-4906-b0e6-5f7401dcae41",
   "metadata": {},
   "outputs": [
    {
     "data": {
      "text/plain": [
       "str"
      ]
     },
     "execution_count": 20,
     "metadata": {},
     "output_type": "execute_result"
    }
   ],
   "source": [
    "type(name)"
   ]
  },
  {
   "cell_type": "code",
   "execution_count": 22,
   "id": "ded7739b-0379-4511-b8e5-d52e76e7c508",
   "metadata": {},
   "outputs": [],
   "source": [
    "a = \"1234\"   # a is a string here"
   ]
  },
  {
   "cell_type": "code",
   "execution_count": 24,
   "id": "f1fd8ca1-403c-4994-b775-37e7dc4bd4bf",
   "metadata": {},
   "outputs": [],
   "source": [
    "b = \"2345\"   # b is also a string here\n"
   ]
  },
  {
   "cell_type": "code",
   "execution_count": 26,
   "id": "4c7b9c5c-f9a0-4bb2-9ef9-6819178a8bf5",
   "metadata": {},
   "outputs": [
    {
     "name": "stdout",
     "output_type": "stream",
     "text": [
      "12342345\n"
     ]
    }
   ],
   "source": [
    "print(a + b)   #this will concatenate a and b"
   ]
  },
  {
   "cell_type": "code",
   "execution_count": null,
   "id": "b7f35d9d-584d-4595-b661-d20a42901e48",
   "metadata": {},
   "outputs": [],
   "source": []
  }
 ],
 "metadata": {
  "kernelspec": {
   "display_name": "Python [conda env:base] *",
   "language": "python",
   "name": "conda-base-py"
  },
  "language_info": {
   "codemirror_mode": {
    "name": "ipython",
    "version": 3
   },
   "file_extension": ".py",
   "mimetype": "text/x-python",
   "name": "python",
   "nbconvert_exporter": "python",
   "pygments_lexer": "ipython3",
   "version": "3.12.7"
  }
 },
 "nbformat": 4,
 "nbformat_minor": 5
}
