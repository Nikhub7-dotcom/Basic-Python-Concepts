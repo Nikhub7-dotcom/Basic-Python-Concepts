{
 "cells": [
  {
   "cell_type": "markdown",
   "id": "c1e9e877-dc70-4a50-a876-32ca969999e7",
   "metadata": {},
   "source": [
    "## LIST IN PYTHON"
   ]
  },
  {
   "cell_type": "code",
   "execution_count": 2,
   "id": "b6912b76-fb63-4ae2-9b33-c4fca141a37c",
   "metadata": {},
   "outputs": [],
   "source": [
    "# Empty List\n",
    "my_list = []\n",
    "\n",
    "# List with numbers\n",
    "numbers = [1,2,3,4,5]\n",
    "\n",
    "# List with mixed objects\n",
    "mixed_list = [1,\"Nikhil\", True, 3.14]"
   ]
  },
  {
   "cell_type": "markdown",
   "id": "cea9a0bc-0b80-425f-becb-d2702548b25b",
   "metadata": {},
   "source": [
    "# COMMON LIST METHODS"
   ]
  },
  {
   "cell_type": "code",
   "execution_count": 7,
   "id": "680cb898-ed57-4834-a2ec-feec8d5f0465",
   "metadata": {},
   "outputs": [
    {
     "data": {
      "text/plain": [
       "[10, 10]"
      ]
     },
     "execution_count": 7,
     "metadata": {},
     "output_type": "execute_result"
    }
   ],
   "source": [
    "my_list.append(10)\n",
    "my_list"
   ]
  },
  {
   "cell_type": "code",
   "execution_count": 9,
   "id": "f0cd036c-ef0f-440a-a2c0-6baef916c6fd",
   "metadata": {},
   "outputs": [],
   "source": [
    "my_list.extend([6,7,8])"
   ]
  },
  {
   "cell_type": "code",
   "execution_count": 11,
   "id": "924644d9-5774-4b62-a75d-7e030df253fa",
   "metadata": {},
   "outputs": [
    {
     "data": {
      "text/plain": [
       "[10, 10, 6, 7, 8]"
      ]
     },
     "execution_count": 11,
     "metadata": {},
     "output_type": "execute_result"
    }
   ],
   "source": [
    "my_list"
   ]
  },
  {
   "cell_type": "code",
   "execution_count": 13,
   "id": "a5b6102b-3aea-4675-b958-e318f2f25497",
   "metadata": {},
   "outputs": [],
   "source": [
    "my_list.insert(2,20)"
   ]
  },
  {
   "cell_type": "code",
   "execution_count": 15,
   "id": "572afd1a-10e3-4071-8b88-35c958bf2980",
   "metadata": {},
   "outputs": [
    {
     "data": {
      "text/plain": [
       "[10, 10, 20, 6, 7, 8]"
      ]
     },
     "execution_count": 15,
     "metadata": {},
     "output_type": "execute_result"
    }
   ],
   "source": [
    "my_list"
   ]
  },
  {
   "cell_type": "code",
   "execution_count": 17,
   "id": "4cb843c4-2d73-42ca-9b58-c88b0e8f8497",
   "metadata": {},
   "outputs": [],
   "source": [
    "my_list.remove(10)"
   ]
  },
  {
   "cell_type": "code",
   "execution_count": 19,
   "id": "df8f40be-13be-436a-b2d7-f14c8cb2915d",
   "metadata": {},
   "outputs": [
    {
     "data": {
      "text/plain": [
       "[10, 20, 6, 7, 8]"
      ]
     },
     "execution_count": 19,
     "metadata": {},
     "output_type": "execute_result"
    }
   ],
   "source": [
    "my_list"
   ]
  },
  {
   "cell_type": "code",
   "execution_count": 21,
   "id": "4cb83cd1-954e-4db5-b780-09e4e62d72a6",
   "metadata": {},
   "outputs": [
    {
     "data": {
      "text/plain": [
       "[10, 20, 6, 7]"
      ]
     },
     "execution_count": 21,
     "metadata": {},
     "output_type": "execute_result"
    }
   ],
   "source": [
    "my_list.pop(-1)\n",
    "my_list"
   ]
  },
  {
   "cell_type": "code",
   "execution_count": 25,
   "id": "11689a19-4361-4463-86b0-77f3400812cc",
   "metadata": {},
   "outputs": [
    {
     "data": {
      "text/plain": [
       "2"
      ]
     },
     "execution_count": 25,
     "metadata": {},
     "output_type": "execute_result"
    }
   ],
   "source": [
    "my_list.index(6)"
   ]
  },
  {
   "cell_type": "code",
   "execution_count": 27,
   "id": "e01cf189-877a-48bc-86a4-e436ac0ac4ef",
   "metadata": {},
   "outputs": [
    {
     "data": {
      "text/plain": [
       "1"
      ]
     },
     "execution_count": 27,
     "metadata": {},
     "output_type": "execute_result"
    }
   ],
   "source": [
    "my_list.count(7)"
   ]
  },
  {
   "cell_type": "code",
   "execution_count": 33,
   "id": "ff1cb676-2a48-43cb-a428-e3057453f01e",
   "metadata": {},
   "outputs": [
    {
     "data": {
      "text/plain": [
       "[6, 7, 10, 20]"
      ]
     },
     "execution_count": 33,
     "metadata": {},
     "output_type": "execute_result"
    }
   ],
   "source": [
    "my_list.sort()\n",
    "my_list"
   ]
  },
  {
   "cell_type": "code",
   "execution_count": 35,
   "id": "e1167d54-6cce-43b7-a08b-9908d6fadda5",
   "metadata": {},
   "outputs": [
    {
     "data": {
      "text/plain": [
       "[20, 10, 7, 6]"
      ]
     },
     "execution_count": 35,
     "metadata": {},
     "output_type": "execute_result"
    }
   ],
   "source": [
    "my_list.reverse()\n",
    "my_list"
   ]
  },
  {
   "cell_type": "code",
   "execution_count": 37,
   "id": "df298fe2-80f7-4450-955e-d8739f63b6c6",
   "metadata": {},
   "outputs": [
    {
     "data": {
      "text/plain": [
       "[20, 10, 7, 6]"
      ]
     },
     "execution_count": 37,
     "metadata": {},
     "output_type": "execute_result"
    }
   ],
   "source": [
    "list2 = my_list.copy()\n",
    "list2"
   ]
  },
  {
   "cell_type": "code",
   "execution_count": 39,
   "id": "23e84cb9-9968-47fd-a02f-22796ced2005",
   "metadata": {},
   "outputs": [
    {
     "data": {
      "text/plain": [
       "[]"
      ]
     },
     "execution_count": 39,
     "metadata": {},
     "output_type": "execute_result"
    }
   ],
   "source": [
    "list2.clear()\n",
    "list2"
   ]
  },
  {
   "cell_type": "code",
   "execution_count": null,
   "id": "898b4db6-4fcc-4098-8c85-3680512d87f3",
   "metadata": {},
   "outputs": [],
   "source": []
  }
 ],
 "metadata": {
  "kernelspec": {
   "display_name": "Python 3 (ipykernel)",
   "language": "python",
   "name": "python3"
  },
  "language_info": {
   "codemirror_mode": {
    "name": "ipython",
    "version": 3
   },
   "file_extension": ".py",
   "mimetype": "text/x-python",
   "name": "python",
   "nbconvert_exporter": "python",
   "pygments_lexer": "ipython3",
   "version": "3.11.9"
  }
 },
 "nbformat": 4,
 "nbformat_minor": 5
}
