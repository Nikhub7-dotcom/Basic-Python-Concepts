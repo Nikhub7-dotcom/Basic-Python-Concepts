{
 "cells": [
  {
   "cell_type": "markdown",
   "id": "3dc32767-057f-43cc-b742-ae9e1574a527",
   "metadata": {},
   "source": [
    "## MATCH-CASE"
   ]
  },
  {
   "cell_type": "code",
   "execution_count": 4,
   "id": "1ba727d0-b673-4dba-b720-2aa44e1e2fbe",
   "metadata": {},
   "outputs": [],
   "source": [
    "def https_status(code):\n",
    "    match code:\n",
    "        case 200:\n",
    "            return \"OK\"\n",
    "        case 400:\n",
    "            return \"Bad Request\"\n",
    "        case 404:\n",
    "            return \"Not Found\"\n",
    "        case 500:\n",
    "            return \"Internal Error Found\"\n",
    "        case _:\n",
    "            return \"Unknown Status\""
   ]
  },
  {
   "cell_type": "code",
   "execution_count": 6,
   "id": "cc0ef81d-afca-4f8b-9f8e-af787832a70d",
   "metadata": {},
   "outputs": [
    {
     "data": {
      "text/plain": [
       "'OK'"
      ]
     },
     "execution_count": 6,
     "metadata": {},
     "output_type": "execute_result"
    }
   ],
   "source": [
    "https_status(200)"
   ]
  },
  {
   "cell_type": "code",
   "execution_count": 8,
   "id": "56c88931-0966-4e57-bfa3-9ac04933f909",
   "metadata": {},
   "outputs": [
    {
     "data": {
      "text/plain": [
       "'Unknown Status'"
      ]
     },
     "execution_count": 8,
     "metadata": {},
     "output_type": "execute_result"
    }
   ],
   "source": [
    "https_status(600)     # _ is used as a default case just like else"
   ]
  },
  {
   "cell_type": "code",
   "execution_count": 10,
   "id": "728375c7-77a0-435a-bb9b-19dd6c9de332",
   "metadata": {},
   "outputs": [
    {
     "data": {
      "text/plain": [
       "'Not Found'"
      ]
     },
     "execution_count": 10,
     "metadata": {},
     "output_type": "execute_result"
    }
   ],
   "source": [
    "https_status(404)"
   ]
  },
  {
   "cell_type": "markdown",
   "id": "5b3db4fd-ca4c-4c14-91cd-9c264807e547",
   "metadata": {},
   "source": [
    "MATCHING DATA STRUCTURES\n",
    "1. LETS TRY TO MATCH A TUPLE"
   ]
  },
  {
   "cell_type": "code",
   "execution_count": 20,
   "id": "022611a6-c00f-4686-a1df-c6408bf80970",
   "metadata": {},
   "outputs": [
    {
     "name": "stdout",
     "output_type": "stream",
     "text": [
      "point 3 and 4 on the graph\n"
     ]
    }
   ],
   "source": [
    "point  = (3,4)\n",
    "\n",
    "match point:\n",
    "    case (0,0):\n",
    "        print(\"Origin\")\n",
    "    case (x, 0):\n",
    "        print(f\"{x} on x - axis\")\n",
    "    case(0,y):\n",
    "        print(f\"{y} on y - axis\")\n",
    "    case (x,y):\n",
    "        print(f\"point {x} and {y} on the graph\")"
   ]
  },
  {
   "cell_type": "code",
   "execution_count": null,
   "id": "451234ac-4bdb-4fe9-acef-200489be124a",
   "metadata": {},
   "outputs": [],
   "source": []
  }
 ],
 "metadata": {
  "kernelspec": {
   "display_name": "Python 3 (ipykernel)",
   "language": "python",
   "name": "python3"
  },
  "language_info": {
   "codemirror_mode": {
    "name": "ipython",
    "version": 3
   },
   "file_extension": ".py",
   "mimetype": "text/x-python",
   "name": "python",
   "nbconvert_exporter": "python",
   "pygments_lexer": "ipython3",
   "version": "3.11.9"
  }
 },
 "nbformat": 4,
 "nbformat_minor": 5
}
