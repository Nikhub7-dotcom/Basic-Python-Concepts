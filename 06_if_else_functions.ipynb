{
 "cells": [
  {
   "cell_type": "markdown",
   "id": "5603b8a0-3cf7-4229-a48b-0be0a090ad1f",
   "metadata": {},
   "source": [
    "## IF ELSE STATEMENT"
   ]
  },
  {
   "cell_type": "code",
   "execution_count": 6,
   "id": "9ad4108d-4120-4628-a9db-279666ba1d41",
   "metadata": {},
   "outputs": [
    {
     "name": "stdout",
     "output_type": "stream",
     "text": [
      "x is greater than 5\n"
     ]
    }
   ],
   "source": [
    "x = 10\n",
    "if x > 5:\n",
    "    print(\"x is greater than 5\")\n",
    "else:\n",
    "    print(\"Smaller than 5\")"
   ]
  },
  {
   "cell_type": "code",
   "execution_count": 2,
   "id": "340ebaf3-cfad-4f68-9563-68ea8bd8f5eb",
   "metadata": {},
   "outputs": [
    {
     "name": "stdout",
     "output_type": "stream",
     "text": [
      "Greater than 40\n"
     ]
    }
   ],
   "source": [
    "a = 41\n",
    "if a > 50:\n",
    "    print(\"Greater than 50\")\n",
    "\n",
    "elif(a > 40):\n",
    "    print(\"Greater than 40\")\n",
    "\n",
    "elif (a > 30):\n",
    "    print(\"Greater than 30\")\n",
    "else:\n",
    "    print(\"Done!\")"
   ]
  },
  {
   "cell_type": "markdown",
   "id": "b0f4586e-3606-4eb8-ae02-642166385fbc",
   "metadata": {},
   "source": [
    "## FUNCTIONS"
   ]
  },
  {
   "cell_type": "code",
   "execution_count": 5,
   "id": "057e353b-5585-4609-9e02-47d33c28fc79",
   "metadata": {},
   "outputs": [],
   "source": [
    "def add(a, b):\n",
    "    return a+b"
   ]
  },
  {
   "cell_type": "code",
   "execution_count": 15,
   "id": "aa7fe232-e9d3-489a-be4e-e104a383f105",
   "metadata": {},
   "outputs": [],
   "source": [
    "def avg(a, b = 10):\n",
    "    return (a+b)/2"
   ]
  },
  {
   "cell_type": "code",
   "execution_count": 17,
   "id": "97309141-8293-459a-abbb-c248ac1b01c9",
   "metadata": {},
   "outputs": [
    {
     "data": {
      "text/plain": [
       "7"
      ]
     },
     "execution_count": 17,
     "metadata": {},
     "output_type": "execute_result"
    }
   ],
   "source": [
    "add(3,4)"
   ]
  },
  {
   "cell_type": "code",
   "execution_count": 19,
   "id": "fc022da0-13a0-432b-867f-074365bc1611",
   "metadata": {},
   "outputs": [
    {
     "data": {
      "text/plain": [
       "15.0"
      ]
     },
     "execution_count": 19,
     "metadata": {},
     "output_type": "execute_result"
    }
   ],
   "source": [
    "avg(10,20)"
   ]
  },
  {
   "cell_type": "code",
   "execution_count": 21,
   "id": "d2f23051-6497-4edc-ba83-e0d5b9c6be55",
   "metadata": {},
   "outputs": [
    {
     "data": {
      "text/plain": [
       "7.0"
      ]
     },
     "execution_count": 21,
     "metadata": {},
     "output_type": "execute_result"
    }
   ],
   "source": [
    "avg(4)"
   ]
  },
  {
   "cell_type": "code",
   "execution_count": 27,
   "id": "72aacd36-4f0a-4b90-9b09-8aaf5006bf15",
   "metadata": {},
   "outputs": [],
   "source": [
    "def greet():\n",
    "    print(\"Hello Good Morning\")"
   ]
  },
  {
   "cell_type": "code",
   "execution_count": 29,
   "id": "193691c0-0d4f-428f-bbe9-ad24c841cd17",
   "metadata": {},
   "outputs": [
    {
     "name": "stdout",
     "output_type": "stream",
     "text": [
      "Hello Good Morning\n"
     ]
    }
   ],
   "source": [
    "greet()"
   ]
  },
  {
   "cell_type": "code",
   "execution_count": null,
   "id": "9c833634-c435-4338-b760-15c1b9a147a2",
   "metadata": {},
   "outputs": [],
   "source": []
  }
 ],
 "metadata": {
  "kernelspec": {
   "display_name": "Python 3 (ipykernel)",
   "language": "python",
   "name": "python3"
  },
  "language_info": {
   "codemirror_mode": {
    "name": "ipython",
    "version": 3
   },
   "file_extension": ".py",
   "mimetype": "text/x-python",
   "name": "python",
   "nbconvert_exporter": "python",
   "pygments_lexer": "ipython3",
   "version": "3.11.9"
  }
 },
 "nbformat": 4,
 "nbformat_minor": 5
}
