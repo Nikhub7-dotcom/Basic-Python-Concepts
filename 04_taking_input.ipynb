{
 "cells": [
  {
   "cell_type": "markdown",
   "id": "953ac3a2-d22a-4082-97dd-ef9cb3bebe24",
   "metadata": {},
   "source": [
    "## TAKING INPUT FROM USER"
   ]
  },
  {
   "cell_type": "code",
   "execution_count": 5,
   "id": "179bc72a-ebb2-4d77-9f24-761863545796",
   "metadata": {},
   "outputs": [
    {
     "name": "stdin",
     "output_type": "stream",
     "text": [
      "Enter the value :  Nikhil\n"
     ]
    }
   ],
   "source": [
    "a = input(\"Enter the value : \")"
   ]
  },
  {
   "cell_type": "code",
   "execution_count": 7,
   "id": "2da7c112-04e1-447f-8d73-11327ab6eacc",
   "metadata": {},
   "outputs": [
    {
     "name": "stdin",
     "output_type": "stream",
     "text": [
      "Enter the value :  Kumar\n"
     ]
    }
   ],
   "source": [
    "b = input(\"Enter the value : \")"
   ]
  },
  {
   "cell_type": "code",
   "execution_count": 15,
   "id": "70477fcb-b2cc-46a0-94ed-327a4d854b95",
   "metadata": {},
   "outputs": [
    {
     "data": {
      "text/plain": [
       "'Nikhil Kumar'"
      ]
     },
     "execution_count": 15,
     "metadata": {},
     "output_type": "execute_result"
    }
   ],
   "source": [
    "a +\" \"+ b     # Concatenation"
   ]
  },
  {
   "cell_type": "code",
   "execution_count": 17,
   "id": "a7a18267-a713-4f4f-84f5-52768996573f",
   "metadata": {},
   "outputs": [
    {
     "name": "stdin",
     "output_type": "stream",
     "text": [
      "Enter the numeric value :  4\n"
     ]
    }
   ],
   "source": [
    "x = int(input(\"Enter the numeric value : \"))   # Typecasting input value to int"
   ]
  },
  {
   "cell_type": "code",
   "execution_count": 19,
   "id": "7df04e2a-906b-4e3b-bf59-82cbcda9edb2",
   "metadata": {},
   "outputs": [
    {
     "name": "stdin",
     "output_type": "stream",
     "text": [
      "Enter the numeric value :  5\n"
     ]
    }
   ],
   "source": [
    "y = int(input(\"Enter the numeric value : \"))"
   ]
  },
  {
   "cell_type": "code",
   "execution_count": 21,
   "id": "93b86d9a-f339-4f2e-ab22-67edb87e891a",
   "metadata": {},
   "outputs": [
    {
     "data": {
      "text/plain": [
       "9"
      ]
     },
     "execution_count": 21,
     "metadata": {},
     "output_type": "execute_result"
    }
   ],
   "source": [
    "x + y"
   ]
  },
  {
   "cell_type": "code",
   "execution_count": null,
   "id": "94c12904-4a94-4654-a806-3d673226779a",
   "metadata": {},
   "outputs": [],
   "source": []
  }
 ],
 "metadata": {
  "kernelspec": {
   "display_name": "Python 3 (ipykernel)",
   "language": "python",
   "name": "python3"
  },
  "language_info": {
   "codemirror_mode": {
    "name": "ipython",
    "version": 3
   },
   "file_extension": ".py",
   "mimetype": "text/x-python",
   "name": "python",
   "nbconvert_exporter": "python",
   "pygments_lexer": "ipython3",
   "version": "3.11.9"
  }
 },
 "nbformat": 4,
 "nbformat_minor": 5
}
