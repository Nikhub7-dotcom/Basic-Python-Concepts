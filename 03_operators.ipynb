{
 "cells": [
  {
   "cell_type": "markdown",
   "id": "b066333c-4f17-40e1-b3f5-81523a5f00cd",
   "metadata": {},
   "source": [
    "## OPERATORS IN PYTHON\n",
    "1. ARITHMETIC OPERATORS"
   ]
  },
  {
   "cell_type": "code",
   "execution_count": 1,
   "id": "8d856247-8785-4979-87e4-c5cab87f7ec6",
   "metadata": {},
   "outputs": [],
   "source": [
    "a = 11\n",
    "b = 5"
   ]
  },
  {
   "cell_type": "code",
   "execution_count": 18,
   "id": "bc992ff3-2d3f-4824-9e56-3d96991328a2",
   "metadata": {},
   "outputs": [
    {
     "data": {
      "text/plain": [
       "16"
      ]
     },
     "execution_count": 18,
     "metadata": {},
     "output_type": "execute_result"
    }
   ],
   "source": [
    "a + b      # Addition operator"
   ]
  },
  {
   "cell_type": "code",
   "execution_count": 20,
   "id": "f88a7878-a558-4aa1-914a-96a6174f0f75",
   "metadata": {},
   "outputs": [
    {
     "data": {
      "text/plain": [
       "6"
      ]
     },
     "execution_count": 20,
     "metadata": {},
     "output_type": "execute_result"
    }
   ],
   "source": [
    "a - b     # Subtraction"
   ]
  },
  {
   "cell_type": "code",
   "execution_count": 22,
   "id": "be63beeb-cb6d-4aef-a6c2-3d6582768121",
   "metadata": {},
   "outputs": [
    {
     "data": {
      "text/plain": [
       "55"
      ]
     },
     "execution_count": 22,
     "metadata": {},
     "output_type": "execute_result"
    }
   ],
   "source": [
    "a*b       # Multiplication"
   ]
  },
  {
   "cell_type": "code",
   "execution_count": 24,
   "id": "6655a3e7-e0c4-4720-a3ee-dbecc66bdc60",
   "metadata": {},
   "outputs": [
    {
     "data": {
      "text/plain": [
       "2.2"
      ]
     },
     "execution_count": 24,
     "metadata": {},
     "output_type": "execute_result"
    }
   ],
   "source": [
    "a / b     # Division"
   ]
  },
  {
   "cell_type": "code",
   "execution_count": 26,
   "id": "fe35492e-9773-4406-8a52-a3ee3144e9f5",
   "metadata": {},
   "outputs": [
    {
     "data": {
      "text/plain": [
       "2"
      ]
     },
     "execution_count": 26,
     "metadata": {},
     "output_type": "execute_result"
    }
   ],
   "source": [
    "a//b      # Floor Division"
   ]
  },
  {
   "cell_type": "code",
   "execution_count": 28,
   "id": "e6130362-c82f-47de-87bf-45c4b2230441",
   "metadata": {},
   "outputs": [
    {
     "data": {
      "text/plain": [
       "161051"
      ]
     },
     "execution_count": 28,
     "metadata": {},
     "output_type": "execute_result"
    }
   ],
   "source": [
    "a**b      # Exponentiation"
   ]
  },
  {
   "cell_type": "code",
   "execution_count": 30,
   "id": "dfb80e70-70db-40ea-a49b-407f5e3ef3f0",
   "metadata": {},
   "outputs": [
    {
     "data": {
      "text/plain": [
       "1"
      ]
     },
     "execution_count": 30,
     "metadata": {},
     "output_type": "execute_result"
    }
   ],
   "source": [
    "a%b       # Modulus"
   ]
  },
  {
   "cell_type": "markdown",
   "id": "826441f2-5285-4209-9bce-21b59b4e67a4",
   "metadata": {},
   "source": [
    "2. COMPARISON OPERATORS"
   ]
  },
  {
   "cell_type": "code",
   "execution_count": 34,
   "id": "c655bcea-ae78-4ed2-9c1f-66c1406b17e9",
   "metadata": {},
   "outputs": [],
   "source": [
    "c = 5\n",
    "d = 7"
   ]
  },
  {
   "cell_type": "code",
   "execution_count": 38,
   "id": "c27bf4fe-e4ad-495b-9980-98278de60faa",
   "metadata": {},
   "outputs": [
    {
     "data": {
      "text/plain": [
       "False"
      ]
     },
     "execution_count": 38,
     "metadata": {},
     "output_type": "execute_result"
    }
   ],
   "source": [
    "c == d    # Equal to"
   ]
  },
  {
   "cell_type": "code",
   "execution_count": 40,
   "id": "9d762263-3805-4f23-83a0-8aacd8e5be9e",
   "metadata": {},
   "outputs": [
    {
     "data": {
      "text/plain": [
       "True"
      ]
     },
     "execution_count": 40,
     "metadata": {},
     "output_type": "execute_result"
    }
   ],
   "source": [
    "c != d    # Not Equal to"
   ]
  },
  {
   "cell_type": "code",
   "execution_count": 42,
   "id": "22d07d49-5af7-44bd-afbc-a71e94f9f033",
   "metadata": {},
   "outputs": [
    {
     "data": {
      "text/plain": [
       "False"
      ]
     },
     "execution_count": 42,
     "metadata": {},
     "output_type": "execute_result"
    }
   ],
   "source": [
    "c > d    # Greater than"
   ]
  },
  {
   "cell_type": "code",
   "execution_count": 44,
   "id": "edbcbf41-bfcd-442e-aca8-3b0f9551dd4d",
   "metadata": {},
   "outputs": [
    {
     "data": {
      "text/plain": [
       "True"
      ]
     },
     "execution_count": 44,
     "metadata": {},
     "output_type": "execute_result"
    }
   ],
   "source": [
    "c < d    # less than"
   ]
  },
  {
   "cell_type": "code",
   "execution_count": 46,
   "id": "9ef84c81-f49b-4073-89f7-13d3ba720402",
   "metadata": {},
   "outputs": [
    {
     "data": {
      "text/plain": [
       "False"
      ]
     },
     "execution_count": 46,
     "metadata": {},
     "output_type": "execute_result"
    }
   ],
   "source": [
    "c >= d   # Greater or equal"
   ]
  },
  {
   "cell_type": "code",
   "execution_count": 48,
   "id": "c0a1495c-1cad-48af-b05f-0cbb486cbe90",
   "metadata": {},
   "outputs": [
    {
     "data": {
      "text/plain": [
       "True"
      ]
     },
     "execution_count": 48,
     "metadata": {},
     "output_type": "execute_result"
    }
   ],
   "source": [
    "c <= d   # Less or equal"
   ]
  },
  {
   "cell_type": "markdown",
   "id": "0849998e-ca3d-43f6-82ff-4d8466045ac5",
   "metadata": {},
   "source": [
    "3. LOGICAL OPERATORS"
   ]
  },
  {
   "cell_type": "code",
   "execution_count": 51,
   "id": "f9201a38-1956-4d8d-9548-b24d52ff6a32",
   "metadata": {},
   "outputs": [],
   "source": [
    "b1 = True\n",
    "b2 = False"
   ]
  },
  {
   "cell_type": "code",
   "execution_count": 53,
   "id": "26330936-b083-41f8-920c-46607edf1129",
   "metadata": {},
   "outputs": [
    {
     "data": {
      "text/plain": [
       "False"
      ]
     },
     "execution_count": 53,
     "metadata": {},
     "output_type": "execute_result"
    }
   ],
   "source": [
    "not(b1)"
   ]
  },
  {
   "cell_type": "code",
   "execution_count": 55,
   "id": "c4ce20e6-18e1-446c-8ec2-31fb5e89252a",
   "metadata": {},
   "outputs": [
    {
     "data": {
      "text/plain": [
       "True"
      ]
     },
     "execution_count": 55,
     "metadata": {},
     "output_type": "execute_result"
    }
   ],
   "source": [
    "not(b2)"
   ]
  },
  {
   "cell_type": "code",
   "execution_count": 57,
   "id": "028885fc-a6b6-42e0-94c9-732efcf25281",
   "metadata": {},
   "outputs": [
    {
     "data": {
      "text/plain": [
       "True"
      ]
     },
     "execution_count": 57,
     "metadata": {},
     "output_type": "execute_result"
    }
   ],
   "source": [
    "b1 or b2    # Either of one should be true"
   ]
  },
  {
   "cell_type": "code",
   "execution_count": 61,
   "id": "64ce40d7-dc04-49ec-a075-8a32d6e3b008",
   "metadata": {},
   "outputs": [
    {
     "data": {
      "text/plain": [
       "False"
      ]
     },
     "execution_count": 61,
     "metadata": {},
     "output_type": "execute_result"
    }
   ],
   "source": [
    "b1 and b2   # Both of them should be True"
   ]
  },
  {
   "cell_type": "markdown",
   "id": "7c8b8f51-bc58-4294-a4f2-7d6c9ee6d0a8",
   "metadata": {},
   "source": [
    "4. BITWISE OPERATOR"
   ]
  },
  {
   "cell_type": "code",
   "execution_count": 64,
   "id": "8a95af51-f4d4-42db-b096-ef03c2f41e4b",
   "metadata": {},
   "outputs": [],
   "source": [
    "x1 = 5\n",
    "x2 = 3"
   ]
  },
  {
   "cell_type": "code",
   "execution_count": 66,
   "id": "84d0ba47-6d9f-4c79-a12e-0b9e1922e37f",
   "metadata": {},
   "outputs": [
    {
     "data": {
      "text/plain": [
       "1"
      ]
     },
     "execution_count": 66,
     "metadata": {},
     "output_type": "execute_result"
    }
   ],
   "source": [
    "x1 & x2"
   ]
  },
  {
   "cell_type": "code",
   "execution_count": 68,
   "id": "c1d588c1-44c8-4085-bea6-ae9039a6a26d",
   "metadata": {},
   "outputs": [
    {
     "data": {
      "text/plain": [
       "7"
      ]
     },
     "execution_count": 68,
     "metadata": {},
     "output_type": "execute_result"
    }
   ],
   "source": [
    "x1 | x2"
   ]
  },
  {
   "cell_type": "markdown",
   "id": "65bdfcec-65ac-4c8f-bdf9-cbe36b1400fe",
   "metadata": {},
   "source": [
    "5. ASSIGNMENT OPERATORS"
   ]
  },
  {
   "cell_type": "code",
   "execution_count": 101,
   "id": "26346458-f067-4ed9-879c-21a7f13fb613",
   "metadata": {},
   "outputs": [],
   "source": [
    "x = 5"
   ]
  },
  {
   "cell_type": "code",
   "execution_count": 103,
   "id": "cce8863e-dfcd-4981-8160-ff51dff25ac9",
   "metadata": {},
   "outputs": [
    {
     "data": {
      "text/plain": [
       "6"
      ]
     },
     "execution_count": 103,
     "metadata": {},
     "output_type": "execute_result"
    }
   ],
   "source": [
    "x += 1\n",
    "x"
   ]
  },
  {
   "cell_type": "code",
   "execution_count": 105,
   "id": "7c8c8b73-b7a5-4f51-8fc5-b5fe304bf4ff",
   "metadata": {},
   "outputs": [
    {
     "data": {
      "text/plain": [
       "5"
      ]
     },
     "execution_count": 105,
     "metadata": {},
     "output_type": "execute_result"
    }
   ],
   "source": [
    "x -= 1\n",
    "x"
   ]
  },
  {
   "cell_type": "code",
   "execution_count": 107,
   "id": "31241702-230e-46f5-861c-8dce6090621c",
   "metadata": {},
   "outputs": [
    {
     "data": {
      "text/plain": [
       "25"
      ]
     },
     "execution_count": 107,
     "metadata": {},
     "output_type": "execute_result"
    }
   ],
   "source": [
    "x *= 5\n",
    "x"
   ]
  },
  {
   "cell_type": "code",
   "execution_count": 109,
   "id": "896b620e-2b25-4f17-9cbd-e99bb563c069",
   "metadata": {},
   "outputs": [
    {
     "data": {
      "text/plain": [
       "5.0"
      ]
     },
     "execution_count": 109,
     "metadata": {},
     "output_type": "execute_result"
    }
   ],
   "source": [
    "x /= 5\n",
    "x"
   ]
  },
  {
   "cell_type": "code",
   "execution_count": 111,
   "id": "dd5fead4-3dc9-4955-bfcd-ebc8d23b00b8",
   "metadata": {},
   "outputs": [
    {
     "data": {
      "text/plain": [
       "1.0"
      ]
     },
     "execution_count": 111,
     "metadata": {},
     "output_type": "execute_result"
    }
   ],
   "source": [
    "x //= 5\n",
    "x"
   ]
  },
  {
   "cell_type": "code",
   "execution_count": 113,
   "id": "fb51790f-4e8d-40eb-8942-556520c2dafb",
   "metadata": {},
   "outputs": [
    {
     "data": {
      "text/plain": [
       "1.0"
      ]
     },
     "execution_count": 113,
     "metadata": {},
     "output_type": "execute_result"
    }
   ],
   "source": [
    "x %= 5\n",
    "x"
   ]
  },
  {
   "cell_type": "code",
   "execution_count": 115,
   "id": "cf6d77b1-1971-4342-88c7-76b85a7b0f6a",
   "metadata": {},
   "outputs": [
    {
     "data": {
      "text/plain": [
       "1.0"
      ]
     },
     "execution_count": 115,
     "metadata": {},
     "output_type": "execute_result"
    }
   ],
   "source": [
    "x **= 5\n",
    "x"
   ]
  },
  {
   "cell_type": "markdown",
   "id": "4ace35d3-d286-476e-beb7-c21e9056985a",
   "metadata": {},
   "source": [
    "6. MEMBERSHIP AND IDENTITY OPERATORS"
   ]
  },
  {
   "cell_type": "code",
   "execution_count": 121,
   "id": "110cd007-0dff-4513-8b55-a409d73c42d0",
   "metadata": {},
   "outputs": [],
   "source": [
    "l1 = [1,2,3, \"Nikhil\", \"Mango\", True]\n",
    "x = 3"
   ]
  },
  {
   "cell_type": "code",
   "execution_count": 123,
   "id": "db9b3433-3e51-4500-befc-8b3918a8d27a",
   "metadata": {},
   "outputs": [
    {
     "data": {
      "text/plain": [
       "True"
      ]
     },
     "execution_count": 123,
     "metadata": {},
     "output_type": "execute_result"
    }
   ],
   "source": [
    "x in l1"
   ]
  },
  {
   "cell_type": "code",
   "execution_count": 127,
   "id": "19590a87-9ca5-4778-8ac4-bc94450b5d50",
   "metadata": {},
   "outputs": [
    {
     "data": {
      "text/plain": [
       "True"
      ]
     },
     "execution_count": 127,
     "metadata": {},
     "output_type": "execute_result"
    }
   ],
   "source": [
    "y = 4\n",
    "y not in l1"
   ]
  },
  {
   "cell_type": "code",
   "execution_count": 129,
   "id": "60eeefb2-668c-44a7-990e-11514ca019cf",
   "metadata": {},
   "outputs": [
    {
     "data": {
      "text/plain": [
       "False"
      ]
     },
     "execution_count": 129,
     "metadata": {},
     "output_type": "execute_result"
    }
   ],
   "source": [
    "x is y"
   ]
  },
  {
   "cell_type": "code",
   "execution_count": 131,
   "id": "0711af02-edcb-4fac-95b4-ec3e25ba33ce",
   "metadata": {},
   "outputs": [
    {
     "data": {
      "text/plain": [
       "True"
      ]
     },
     "execution_count": 131,
     "metadata": {},
     "output_type": "execute_result"
    }
   ],
   "source": [
    "x is not y"
   ]
  },
  {
   "cell_type": "code",
   "execution_count": null,
   "id": "b37a2ab0-2443-48ec-bda0-8500f5277db1",
   "metadata": {},
   "outputs": [],
   "source": []
  }
 ],
 "metadata": {
  "kernelspec": {
   "display_name": "Python 3 (ipykernel)",
   "language": "python",
   "name": "python3"
  },
  "language_info": {
   "codemirror_mode": {
    "name": "ipython",
    "version": 3
   },
   "file_extension": ".py",
   "mimetype": "text/x-python",
   "name": "python",
   "nbconvert_exporter": "python",
   "pygments_lexer": "ipython3",
   "version": "3.11.9"
  }
 },
 "nbformat": 4,
 "nbformat_minor": 5
}
