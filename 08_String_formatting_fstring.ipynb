{
 "cells": [
  {
   "cell_type": "markdown",
   "id": "c412323c-6ffc-43de-988b-d1262aa56fc0",
   "metadata": {},
   "source": [
    "## STRING FORMATTING\n",
    "1. FORMAT() FUNCTION"
   ]
  },
  {
   "cell_type": "code",
   "execution_count": 4,
   "id": "45a89267-ab68-40d7-8a85-92a599c3cd57",
   "metadata": {},
   "outputs": [
    {
     "name": "stdout",
     "output_type": "stream",
     "text": [
      "My name is Nikhil and I am 20 yrs old\n"
     ]
    }
   ],
   "source": [
    "name = \"Nikhil\"\n",
    "age = 20\n",
    "print(\"My name is {} and I am {} yrs old\".format(name,age))"
   ]
  },
  {
   "cell_type": "markdown",
   "id": "d88dc38b-7b7e-4ba6-93ce-5cdec2110222",
   "metadata": {},
   "source": [
    "2. USING FSTRING"
   ]
  },
  {
   "cell_type": "code",
   "execution_count": 8,
   "id": "4828b220-1746-4c06-92b7-fd78f175b31c",
   "metadata": {},
   "outputs": [
    {
     "name": "stdout",
     "output_type": "stream",
     "text": [
      "My name is Nikhil and I am 20 yrs old.\n"
     ]
    }
   ],
   "source": [
    "name = \"Nikhil\"\n",
    "age = 20\n",
    "print(f\"My name is {name} and I am {age} yrs old.\")"
   ]
  },
  {
   "cell_type": "markdown",
   "id": "3a97835a-162f-4fb9-b685-841d1d2963ae",
   "metadata": {},
   "source": [
    "3. FORMATTING NUMBERS"
   ]
  },
  {
   "cell_type": "code",
   "execution_count": 11,
   "id": "c9b696fa-b67c-4c9e-a8b0-2d06a172b883",
   "metadata": {},
   "outputs": [
    {
     "name": "stdout",
     "output_type": "stream",
     "text": [
      "Value of pi  upto 2 decimal places:  3.14\n"
     ]
    }
   ],
   "source": [
    "pi = 3.14159\n",
    "print(f\"Value of pi  upto 2 decimal places: {pi: .2f}\")"
   ]
  },
  {
   "cell_type": "markdown",
   "id": "d10706d5-0807-4d6d-b230-2b2f25f65a9e",
   "metadata": {},
   "source": [
    "4. PADDING AND ALIGNMENT"
   ]
  },
  {
   "cell_type": "code",
   "execution_count": 14,
   "id": "2f1484fc-ef60-47f9-8dfc-056617b2adab",
   "metadata": {},
   "outputs": [
    {
     "name": "stdout",
     "output_type": "stream",
     "text": [
      "Python    \n",
      "    Python\n",
      "  Python  \n"
     ]
    }
   ],
   "source": [
    "print(f\"{'Python':<10}\")  # Left align\n",
    "print(f\"{'Python':>10}\")  # Right align\n",
    "print(f\"{'Python':^10}\")  # Centre align"
   ]
  },
  {
   "cell_type": "code",
   "execution_count": null,
   "id": "2a8342dc-b160-4b43-a814-455ca97c12f0",
   "metadata": {},
   "outputs": [],
   "source": []
  }
 ],
 "metadata": {
  "kernelspec": {
   "display_name": "Python 3 (ipykernel)",
   "language": "python",
   "name": "python3"
  },
  "language_info": {
   "codemirror_mode": {
    "name": "ipython",
    "version": 3
   },
   "file_extension": ".py",
   "mimetype": "text/x-python",
   "name": "python",
   "nbconvert_exporter": "python",
   "pygments_lexer": "ipython3",
   "version": "3.11.9"
  }
 },
 "nbformat": 4,
 "nbformat_minor": 5
}
