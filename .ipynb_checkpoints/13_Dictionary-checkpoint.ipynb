{
 "cells": [
  {
   "cell_type": "markdown",
   "id": "30a6a221-2ba8-4e54-8c9a-9505664a713a",
   "metadata": {},
   "source": [
    "# DICTIONARY IN PYTHON"
   ]
  },
  {
   "cell_type": "code",
   "execution_count": 2,
   "id": "d40de4da-e8e4-4c22-97c4-b156cf45cc3d",
   "metadata": {},
   "outputs": [],
   "source": [
    "# empty dictionary\n",
    "empty_dic = {}\n",
    "\n",
    "# Dic with key value pairs\n",
    "student = {\n",
    "    \"name\" : \"Nikhil\",\n",
    "    \"age\"  : 20,\n",
    "    \"branch\" : \"CSE\" \n",
    "}\n",
    "\n",
    "# Using dict() constructor\n",
    "person = dict(name = \"Alice\", age = 30, city = \"New York\")"
   ]
  },
  {
   "cell_type": "markdown",
   "id": "63dace5c-b0bf-4546-87e9-590faeb5a2ce",
   "metadata": {},
   "source": [
    "### ACCESSING ELEMENTS"
   ]
  },
  {
   "cell_type": "code",
   "execution_count": 5,
   "id": "9417d660-ae96-4d91-adc9-02db61be56f6",
   "metadata": {},
   "outputs": [
    {
     "name": "stdout",
     "output_type": "stream",
     "text": [
      "Nikhil\n"
     ]
    }
   ],
   "source": [
    "# using keys\n",
    "print(student[\"name\"])"
   ]
  },
  {
   "cell_type": "code",
   "execution_count": 7,
   "id": "106ce503-9a77-4f11-a893-edafc7459402",
   "metadata": {},
   "outputs": [
    {
     "name": "stdout",
     "output_type": "stream",
     "text": [
      "20\n",
      "Not found\n"
     ]
    }
   ],
   "source": [
    "# using get()   (avoid key error if key doesn't exist)\n",
    "print(student.get(\"age\"))\n",
    "print(student.get(\"height\", \"Not found\"))   # default value"
   ]
  },
  {
   "cell_type": "markdown",
   "id": "180e68fc-2135-44c1-b559-9c0f53793a74",
   "metadata": {},
   "source": [
    "### COMMON DICTIONARY METHODS"
   ]
  },
  {
   "cell_type": "code",
   "execution_count": 11,
   "id": "b4b53e1b-9c25-48a4-be70-a9b590d88f51",
   "metadata": {},
   "outputs": [
    {
     "data": {
      "text/plain": [
       "dict_keys(['name', 'age', 'branch'])"
      ]
     },
     "execution_count": 11,
     "metadata": {},
     "output_type": "execute_result"
    }
   ],
   "source": [
    "student.keys()"
   ]
  },
  {
   "cell_type": "code",
   "execution_count": 13,
   "id": "23656d07-330d-433c-9940-2476575a4cca",
   "metadata": {},
   "outputs": [
    {
     "data": {
      "text/plain": [
       "dict_values(['Nikhil', 20, 'CSE'])"
      ]
     },
     "execution_count": 13,
     "metadata": {},
     "output_type": "execute_result"
    }
   ],
   "source": [
    "student.values()"
   ]
  },
  {
   "cell_type": "code",
   "execution_count": 15,
   "id": "eded975a-178a-4986-848c-74590125fe62",
   "metadata": {},
   "outputs": [
    {
     "data": {
      "text/plain": [
       "dict_items([('name', 'Nikhil'), ('age', 20), ('branch', 'CSE')])"
      ]
     },
     "execution_count": 15,
     "metadata": {},
     "output_type": "execute_result"
    }
   ],
   "source": [
    "student.items()"
   ]
  },
  {
   "cell_type": "code",
   "execution_count": 17,
   "id": "3f22f360-9e6d-4e1b-8ac3-449856130168",
   "metadata": {},
   "outputs": [
    {
     "data": {
      "text/plain": [
       "20"
      ]
     },
     "execution_count": 17,
     "metadata": {},
     "output_type": "execute_result"
    }
   ],
   "source": [
    "student.get(\"age\")"
   ]
  },
  {
   "cell_type": "code",
   "execution_count": 23,
   "id": "537c06bf-6df3-4d50-846d-2e207c0bc3df",
   "metadata": {},
   "outputs": [
    {
     "data": {
      "text/plain": [
       "{'name': 'Nikhil', 'age': 21, 'branch': 'CSE'}"
      ]
     },
     "execution_count": 23,
     "metadata": {},
     "output_type": "execute_result"
    }
   ],
   "source": [
    "student.update({\"age\": 21})\n",
    "student"
   ]
  },
  {
   "cell_type": "code",
   "execution_count": 25,
   "id": "7fdb8f4d-46cf-48c0-813b-ec345a1c7674",
   "metadata": {},
   "outputs": [
    {
     "data": {
      "text/plain": [
       "'CSE'"
      ]
     },
     "execution_count": 25,
     "metadata": {},
     "output_type": "execute_result"
    }
   ],
   "source": [
    "student.pop(\"branch\")"
   ]
  },
  {
   "cell_type": "code",
   "execution_count": 27,
   "id": "ec1398c2-019b-4e53-824a-aa806820f6fa",
   "metadata": {},
   "outputs": [
    {
     "data": {
      "text/plain": [
       "('age', 21)"
      ]
     },
     "execution_count": 27,
     "metadata": {},
     "output_type": "execute_result"
    }
   ],
   "source": [
    "student.popitem()"
   ]
  },
  {
   "cell_type": "code",
   "execution_count": 29,
   "id": "86fc3e41-7e9c-43e9-8a28-5c66de5f9977",
   "metadata": {},
   "outputs": [
    {
     "data": {
      "text/plain": [
       "'Unknown'"
      ]
     },
     "execution_count": 29,
     "metadata": {},
     "output_type": "execute_result"
    }
   ],
   "source": [
    "student.setdefault(\"city\",\"Unknown\")"
   ]
  },
  {
   "cell_type": "code",
   "execution_count": 31,
   "id": "d12088d1-6e4f-4328-9192-eb4c37c866c7",
   "metadata": {},
   "outputs": [],
   "source": [
    "student.clear()"
   ]
  },
  {
   "cell_type": "markdown",
   "id": "fe53508f-e98b-4741-b674-3f4257052f32",
   "metadata": {},
   "source": [
    "### DICTIONARY COMPREHENSION"
   ]
  },
  {
   "cell_type": "code",
   "execution_count": 34,
   "id": "166d5d85-072d-48b4-a185-cd4ed589abd6",
   "metadata": {},
   "outputs": [
    {
     "data": {
      "text/plain": [
       "{1: 1, 2: 4, 3: 9, 4: 16, 5: 25}"
      ]
     },
     "execution_count": 34,
     "metadata": {},
     "output_type": "execute_result"
    }
   ],
   "source": [
    "squares = {x : x**2 for x in range(1,6)}\n",
    "squares"
   ]
  },
  {
   "cell_type": "code",
   "execution_count": null,
   "id": "af58afaa-c551-4f95-b251-7fb2ad621afb",
   "metadata": {},
   "outputs": [],
   "source": []
  }
 ],
 "metadata": {
  "kernelspec": {
   "display_name": "Python 3 (ipykernel)",
   "language": "python",
   "name": "python3"
  },
  "language_info": {
   "codemirror_mode": {
    "name": "ipython",
    "version": 3
   },
   "file_extension": ".py",
   "mimetype": "text/x-python",
   "name": "python",
   "nbconvert_exporter": "python",
   "pygments_lexer": "ipython3",
   "version": "3.11.9"
  }
 },
 "nbformat": 4,
 "nbformat_minor": 5
}
