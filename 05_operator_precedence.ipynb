{
 "cells": [
  {
   "cell_type": "markdown",
   "id": "9dc585a4-6613-4d5e-bdab-2f990227d793",
   "metadata": {},
   "source": [
    "## OPERATOR PRECEDENCE"
   ]
  },
  {
   "cell_type": "markdown",
   "id": "71f393c4-4e04-4cd1-9b2b-b71a6b7c4265",
   "metadata": {},
   "source": [
    "PYTHON follows **PEMDAS** (Parenthesis, Exponential, Multiplication, Division, Addition, Subtraction)"
   ]
  },
  {
   "cell_type": "code",
   "execution_count": 6,
   "id": "b15d36bd-c1ac-499a-b117-90d106a0c48d",
   "metadata": {},
   "outputs": [
    {
     "data": {
      "text/plain": [
       "2306.0"
      ]
     },
     "execution_count": 6,
     "metadata": {},
     "output_type": "execute_result"
    }
   ],
   "source": [
    "result = (10 + 2) ** 3 * 4 / 3 + 7 - 5  # Parenthesis first\n",
    "                                        # then exponential \n",
    "                                        # then multiplication\n",
    "                                        # then  division/ addition/ subtraction\n",
    "result"
   ]
  },
  {
   "cell_type": "code",
   "execution_count": null,
   "id": "3d1ed0e5-2755-49a3-af3e-de7d67148322",
   "metadata": {},
   "outputs": [],
   "source": []
  }
 ],
 "metadata": {
  "kernelspec": {
   "display_name": "Python 3 (ipykernel)",
   "language": "python",
   "name": "python3"
  },
  "language_info": {
   "codemirror_mode": {
    "name": "ipython",
    "version": 3
   },
   "file_extension": ".py",
   "mimetype": "text/x-python",
   "name": "python",
   "nbconvert_exporter": "python",
   "pygments_lexer": "ipython3",
   "version": "3.11.9"
  }
 },
 "nbformat": 4,
 "nbformat_minor": 5
}
